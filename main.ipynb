{
 "cells": [
  {
   "cell_type": "markdown",
   "id": "68fd86ab",
   "metadata": {},
   "source": [
    "# Exercise 1 - Data Analysis\n",
    "\n",
    "## Data Creation\n",
    "\n",
    "**Author:** Leonardo Teixeira"
   ]
  },
  {
   "cell_type": "code",
   "execution_count": 8,
   "id": "95a4ec34",
   "metadata": {},
   "outputs": [],
   "source": [
    "import pandas as pd\n",
    "import numpy as np\n",
    "import matplotlib.pyplot as plt"
   ]
  },
  {
   "cell_type": "code",
   "execution_count": 9,
   "id": "b1970d34",
   "metadata": {},
   "outputs": [],
   "source": [
    "sample = pd.DataFrame()"
   ]
  },
  {
   "cell_type": "markdown",
   "id": "f45a8a03",
   "metadata": {},
   "source": [
    "**Class 1**: Mean = [2,3], Standard Deviation = [0.8,2.5]\n",
    "- 100 samples"
   ]
  },
  {
   "cell_type": "code",
   "execution_count": 10,
   "id": "94b5d2b8",
   "metadata": {},
   "outputs": [],
   "source": [
    "mu_x, mu_y = 2, 3\n",
    "std_x, std_y = 0.8, 2.5\n",
    "\n",
    "n = 100\n",
    "\n",
    "X = np.random.normal(mu_x, std_x, n)\n",
    "Y = np.random.normal(mu_y, std_y, n)\n",
    "\n",
    "first_class = pd.DataFrame()\n",
    "first_class['X'] = X\n",
    "first_class['Y'] = Y"
   ]
  },
  {
   "cell_type": "code",
   "execution_count": 11,
   "id": "af05a0be",
   "metadata": {},
   "outputs": [],
   "source": [
    "sample = pd.concat([sample, first_class], ignore_index=True)"
   ]
  },
  {
   "cell_type": "code",
   "execution_count": null,
   "id": "6131bc74",
   "metadata": {},
   "outputs": [],
   "source": []
  },
  {
   "cell_type": "markdown",
   "id": "d797da4a",
   "metadata": {},
   "source": [
    "**Class 2:**: Mean = [2,3], Standard Deviation = [1.2,1.9]\n",
    "- Samples: "
   ]
  },
  {
   "cell_type": "code",
   "execution_count": null,
   "id": "e7077cba",
   "metadata": {},
   "outputs": [],
   "source": [
    "mu_x, mu_y = 2, 3\n",
    "std_x, std_y = 0.8, 2.5\n",
    "\n",
    "n = 100\n",
    "\n",
    "X = np.random.normal(mu_x, std_x, n)\n",
    "Y = np.random.normal(mu_y, std_y, n)\n",
    "\n",
    "first_class = pd.DataFrame()\n",
    "first_class['X'] = X\n",
    "first_class['Y'] = Y"
   ]
  }
 ],
 "metadata": {
  "kernelspec": {
   "display_name": ".venv",
   "language": "python",
   "name": "python3"
  },
  "language_info": {
   "codemirror_mode": {
    "name": "ipython",
    "version": 3
   },
   "file_extension": ".py",
   "mimetype": "text/x-python",
   "name": "python",
   "nbconvert_exporter": "python",
   "pygments_lexer": "ipython3",
   "version": "3.12.2"
  }
 },
 "nbformat": 4,
 "nbformat_minor": 5
}
