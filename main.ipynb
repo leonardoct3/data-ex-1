{
 "cells": [
  {
   "cell_type": "markdown",
   "id": "68fd86ab",
   "metadata": {},
   "source": [
    "# Exercise 1 - Data Analysis\n",
    "\n",
    "## Data Creation\n",
    "\n",
    "**Author:** Leonardo Teixeira"
   ]
  },
  {
   "cell_type": "markdown",
   "id": "3cacb69e",
   "metadata": {},
   "source": [
    "---"
   ]
  },
  {
   "cell_type": "markdown",
   "id": "7ca71e0e",
   "metadata": {},
   "source": [
    "### 1) Exploring Class Separability in 2D"
   ]
  },
  {
   "cell_type": "code",
   "execution_count": 1,
   "id": "95a4ec34",
   "metadata": {},
   "outputs": [],
   "source": [
    "import pandas as pd\n",
    "import numpy as np\n",
    "import matplotlib.pyplot as plt"
   ]
  },
  {
   "cell_type": "code",
   "execution_count": 2,
   "id": "b1970d34",
   "metadata": {},
   "outputs": [],
   "source": [
    "sample = pd.DataFrame()"
   ]
  },
  {
   "cell_type": "markdown",
   "id": "f45a8a03",
   "metadata": {},
   "source": [
    "**Class 0**: Mean = [2,3], Standard Deviation = [0.8,2.5]\n",
    "- 100 samples"
   ]
  },
  {
   "cell_type": "code",
   "execution_count": 3,
   "id": "94b5d2b8",
   "metadata": {},
   "outputs": [],
   "source": [
    "mu_x, mu_y = 2, 3\n",
    "std_x, std_y = 0.8, 2.5\n",
    "\n",
    "n = 100\n",
    "\n",
    "X = np.random.normal(mu_x, std_x, n)\n",
    "Y = np.random.normal(mu_y, std_y, n)\n",
    "\n",
    "first_class = pd.DataFrame()\n",
    "first_class['X'] = X\n",
    "first_class['Y'] = Y\n",
    "\n",
    "LABEL = 0\n",
    "first_class['Class'] = [LABEL] * n"
   ]
  },
  {
   "cell_type": "code",
   "execution_count": 4,
   "id": "af05a0be",
   "metadata": {},
   "outputs": [],
   "source": [
    "sample = pd.concat([sample, first_class], ignore_index=True)"
   ]
  },
  {
   "cell_type": "markdown",
   "id": "d797da4a",
   "metadata": {},
   "source": [
    "**Class 1:** Mean = [5,6], Standard Deviation = [1.2,1.9]\n",
    "- Samples: 100"
   ]
  },
  {
   "cell_type": "code",
   "execution_count": 5,
   "id": "e7077cba",
   "metadata": {},
   "outputs": [],
   "source": [
    "mu_x, mu_y = 5, 6\n",
    "std_x, std_y = 1.2, 1.9\n",
    "\n",
    "n = 100\n",
    "\n",
    "X = np.random.normal(mu_x, std_x, n)\n",
    "Y = np.random.normal(mu_y, std_y, n)\n",
    "\n",
    "second_class = pd.DataFrame()\n",
    "second_class['X'] = X\n",
    "second_class['Y'] = Y\n",
    "\n",
    "LABEL = 1\n",
    "second_class['Class'] = [LABEL] * n"
   ]
  },
  {
   "cell_type": "code",
   "execution_count": 6,
   "id": "ac003241",
   "metadata": {},
   "outputs": [],
   "source": [
    "sample = pd.concat([sample, second_class], ignore_index=True)"
   ]
  },
  {
   "cell_type": "markdown",
   "id": "4e24a172",
   "metadata": {},
   "source": [
    "**Class 2:** Mean = [8,1], Standard Deviation = [0.9,0.9]\n",
    "- Samples: 100"
   ]
  },
  {
   "cell_type": "code",
   "execution_count": 7,
   "id": "add1b623",
   "metadata": {},
   "outputs": [],
   "source": [
    "mu_x, mu_y = 8, 1\n",
    "std_x, std_y = 0.9, 0.9\n",
    "\n",
    "n = 100\n",
    "\n",
    "X = np.random.normal(mu_x, std_x, n)\n",
    "Y = np.random.normal(mu_y, std_y, n)\n",
    "\n",
    "third_class = pd.DataFrame()\n",
    "third_class['X'] = X\n",
    "third_class['Y'] = Y\n",
    "\n",
    "LABEL = 2\n",
    "third_class['Class'] = [LABEL] * n"
   ]
  },
  {
   "cell_type": "code",
   "execution_count": 8,
   "id": "b1ace896",
   "metadata": {},
   "outputs": [],
   "source": [
    "sample = pd.concat([sample, third_class], ignore_index=True)"
   ]
  },
  {
   "cell_type": "markdown",
   "id": "57d8d746",
   "metadata": {},
   "source": [
    "**Class 3:** Mean = [15,4], Standard Deviation = [0.5,2.0]\n",
    "- Samples: 100"
   ]
  },
  {
   "cell_type": "code",
   "execution_count": 9,
   "id": "218cb001",
   "metadata": {},
   "outputs": [],
   "source": [
    "mu_x, mu_y = 15, 4\n",
    "std_x, std_y = 0.5, 2.0\n",
    "\n",
    "n = 100\n",
    "\n",
    "X = np.random.normal(mu_x, std_x, n)\n",
    "Y = np.random.normal(mu_y, std_y, n)\n",
    "\n",
    "\n",
    "fourth_class = pd.DataFrame()\n",
    "\n",
    "fourth_class['X'] = X\n",
    "fourth_class['Y'] = Y\n",
    "\n",
    "LABEL = 3\n",
    "fourth_class['Class'] = [LABEL] * n"
   ]
  },
  {
   "cell_type": "code",
   "execution_count": 10,
   "id": "7b91f1c3",
   "metadata": {},
   "outputs": [],
   "source": [
    "sample = pd.concat([sample, fourth_class], ignore_index=True)"
   ]
  },
  {
   "cell_type": "code",
   "execution_count": 11,
   "id": "03a9d634",
   "metadata": {},
   "outputs": [
    {
     "data": {
      "text/html": [
       "<div>\n",
       "<style scoped>\n",
       "    .dataframe tbody tr th:only-of-type {\n",
       "        vertical-align: middle;\n",
       "    }\n",
       "\n",
       "    .dataframe tbody tr th {\n",
       "        vertical-align: top;\n",
       "    }\n",
       "\n",
       "    .dataframe thead th {\n",
       "        text-align: right;\n",
       "    }\n",
       "</style>\n",
       "<table border=\"1\" class=\"dataframe\">\n",
       "  <thead>\n",
       "    <tr style=\"text-align: right;\">\n",
       "      <th></th>\n",
       "      <th>X</th>\n",
       "      <th>Y</th>\n",
       "      <th>Class</th>\n",
       "    </tr>\n",
       "  </thead>\n",
       "  <tbody>\n",
       "    <tr>\n",
       "      <th>count</th>\n",
       "      <td>400.000000</td>\n",
       "      <td>400.000000</td>\n",
       "      <td>400.000000</td>\n",
       "    </tr>\n",
       "    <tr>\n",
       "      <th>mean</th>\n",
       "      <td>7.457530</td>\n",
       "      <td>3.493760</td>\n",
       "      <td>1.500000</td>\n",
       "    </tr>\n",
       "    <tr>\n",
       "      <th>std</th>\n",
       "      <td>4.910611</td>\n",
       "      <td>2.679722</td>\n",
       "      <td>1.119434</td>\n",
       "    </tr>\n",
       "    <tr>\n",
       "      <th>min</th>\n",
       "      <td>0.167895</td>\n",
       "      <td>-4.763830</td>\n",
       "      <td>0.000000</td>\n",
       "    </tr>\n",
       "    <tr>\n",
       "      <th>25%</th>\n",
       "      <td>3.176969</td>\n",
       "      <td>1.313408</td>\n",
       "      <td>0.750000</td>\n",
       "    </tr>\n",
       "    <tr>\n",
       "      <th>50%</th>\n",
       "      <td>6.570621</td>\n",
       "      <td>3.434874</td>\n",
       "      <td>1.500000</td>\n",
       "    </tr>\n",
       "    <tr>\n",
       "      <th>75%</th>\n",
       "      <td>11.364918</td>\n",
       "      <td>5.373740</td>\n",
       "      <td>2.250000</td>\n",
       "    </tr>\n",
       "    <tr>\n",
       "      <th>max</th>\n",
       "      <td>16.352035</td>\n",
       "      <td>12.477635</td>\n",
       "      <td>3.000000</td>\n",
       "    </tr>\n",
       "  </tbody>\n",
       "</table>\n",
       "</div>"
      ],
      "text/plain": [
       "                X           Y       Class\n",
       "count  400.000000  400.000000  400.000000\n",
       "mean     7.457530    3.493760    1.500000\n",
       "std      4.910611    2.679722    1.119434\n",
       "min      0.167895   -4.763830    0.000000\n",
       "25%      3.176969    1.313408    0.750000\n",
       "50%      6.570621    3.434874    1.500000\n",
       "75%     11.364918    5.373740    2.250000\n",
       "max     16.352035   12.477635    3.000000"
      ]
     },
     "execution_count": 11,
     "metadata": {},
     "output_type": "execute_result"
    }
   ],
   "source": [
    "sample.describe()"
   ]
  },
  {
   "cell_type": "markdown",
   "id": "853f029d",
   "metadata": {},
   "source": [
    "**Scatter plot**"
   ]
  },
  {
   "cell_type": "code",
   "execution_count": 12,
   "id": "170dbbf4",
   "metadata": {},
   "outputs": [
    {
     "data": {
      "image/png": "[encoded data removed]",
      "text/plain": [
       "<Figure size 640x480 with 1 Axes>"
      ]
     },
     "metadata": {},
     "output_type": "display_data"
    }
   ],
   "source": [
    "# Scatter plot for sample X and Y with title and legend\n",
    "for label, group in sample.groupby('Class'):\n",
    "    plt.scatter(group['X'], group['Y'], label=f'Class {label}')\n",
    "\n",
    "plt.title('Scatter Plot of Sample Data')\n",
    "plt.xlabel('X')\n",
    "plt.ylabel('Y')\n",
    "plt.legend()\n",
    "plt.show()"
   ]
  },
  {
   "cell_type": "markdown",
   "id": "b504bffb",
   "metadata": {},
   "source": [
    "### Data Distribution and Class Relations\n",
    "\n",
    "#### 1. General Distribution\n",
    "\n",
    "The dataset contains four distinct classes, each with unique spatial characteristics:\n",
    "\n",
    "- **Class 0 (blue):** Concentrated on the left side of the plot, with a vertical spread and moderate variance. The cluster is elongated, resembling an ellipse.\n",
    "- **Class 1 (orange):** Located to the right of Class 0, with noticeable overlap at the boundary. The distribution is more spread out but still roughly elliptical.\n",
    "- **Class 2 (green):** Positioned further right and slightly below, forming a compact and nearly spherical cluster.\n",
    "- **Class 3 (red):** Clearly isolated on the far right, very compact and dense, with no visible overlap with other classes.\n",
    "\n",
    "#### 2. Overlap and Separability\n",
    "\n",
    "- **Class 0 vs Class 1:** Significant overlap exists at their borders. A simple linear boundary would not perfectly separate them; a nonlinear (curved or piecewise) boundary is required for better separation.\n",
    "- **Class 2:** This class is relatively compact and separated from Class 1, though a few orange points extend toward the green cluster. With an appropriate curved boundary, Class 2 can be effectively isolated.\n",
    "- **Class 3:** Completely isolated on the right side. A single vertical linear boundary can separate it from all other classes with high accuracy.\n",
    "\n",
    "#### 3. Shape of Clusters\n",
    "\n",
    "- **Class 0 (blue):** Vertically elongated, almost elliptical.\n",
    "- **Class 1 (orange):** More spread out, roughly elliptical.\n",
    "- **Class 2 (green):** Spherical and compact.\n",
    "- **Class 3 (red):** Tightly spherical and very dense.\n",
    "\n",
    "#### 4. Outliers\n",
    "\n",
    "A few scattered points exist on the fringes of Class 0 and Class 1, but they do not significantly distort the overall distribution. The dataset is relatively clean with minimal outliers.\n",
    "\n",
    "#### 5. Decision Boundaries\n",
    "\n",
    "- **Class 3 (red):** Can be separated from the others using a vertical linear boundary.\n",
    "- **Class 0 and Class 1:** Require a curved or adaptive boundary due to their overlap.\n",
    "- **Class 1 and Class 2:** A slightly curved boundary is needed, though a linear approximation may work with some misclassifications.\n",
    "- **Class 2:** Can be isolated with an oval-shaped boundary.\n",
    "\n",
    "#### Neural Network Perspective\n",
    "\n",
    "A neural network would likely learn:\n",
    "- A vertical line to isolate Class 3.\n",
    "- Curved boundaries between Classes 0–1 and 1–2.\n",
    "- An oval-shaped boundary around Class 2."
   ]
  },
  {
   "cell_type": "markdown",
   "id": "a2456221",
   "metadata": {},
   "source": [
    "---"
   ]
  },
  {
   "cell_type": "markdown",
   "id": "25b62b5b",
   "metadata": {},
   "source": [
    "### 2) Non-Linearity in Higher Dimensions"
   ]
  },
  {
   "cell_type": "code",
   "execution_count": null,
   "id": "993a226d",
   "metadata": {},
   "outputs": [],
   "source": []
  }
 ],
 "metadata": {
  "kernelspec": {
   "display_name": ".venv",
   "language": "python",
   "name": "python3"
  },
  "language_info": {
   "codemirror_mode": {
    "name": "ipython",
    "version": 3
   },
   "file_extension": ".py",
   "mimetype": "text/x-python",
   "name": "python",
   "nbconvert_exporter": "python",
   "pygments_lexer": "ipython3",
   "version": "3.12.2"
  }
 },
 "nbformat": 4,
 "nbformat_minor": 5
}
